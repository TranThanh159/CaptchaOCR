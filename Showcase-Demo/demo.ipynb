{
  "cells": [
    {
      "cell_type": "markdown",
      "source": [
        "https://colab.research.google.com/drive/1YAYRUe2VqV22po1fhVHvoWZjkHFuyAjk?usp=sharing"
      ],
      "metadata": {
        "id": "0FsVu1QMP1fa"
      }
    },
    {
      "cell_type": "markdown",
      "metadata": {
        "id": "pze3IRe2Ifo9"
      },
      "source": [
        "# Setup"
      ]
    },
    {
      "cell_type": "code",
      "execution_count": null,
      "metadata": {
        "colab": {
          "base_uri": "https://localhost:8080/"
        },
        "id": "RvlYkCQ9vFiy",
        "outputId": "54838321-ae5b-4537-f0cd-cc763fc113a3"
      },
      "outputs": [
        {
          "output_type": "stream",
          "name": "stdout",
          "text": [
            "\u001b[2K     \u001b[90m━━━━━━━━━━━━━━━━━━━━━━━━━━━━━━━━━━━━━━━━\u001b[0m \u001b[32m8.9/8.9 MB\u001b[0m \u001b[31m83.7 MB/s\u001b[0m eta \u001b[36m0:00:00\u001b[0m\n",
            "\u001b[2K     \u001b[90m━━━━━━━━━━━━━━━━━━━━━━━━━━━━━━━━━━━━━━\u001b[0m \u001b[32m164.8/164.8 kB\u001b[0m \u001b[31m20.5 MB/s\u001b[0m eta \u001b[36m0:00:00\u001b[0m\n",
            "\u001b[?25h  Preparing metadata (setup.py) ... \u001b[?25l\u001b[?25hdone\n",
            "\u001b[2K     \u001b[90m━━━━━━━━━━━━━━━━━━━━━━━━━━━━━━━━━━━━━━\u001b[0m \u001b[32m188.5/188.5 kB\u001b[0m \u001b[31m17.7 MB/s\u001b[0m eta \u001b[36m0:00:00\u001b[0m\n",
            "\u001b[2K     \u001b[90m━━━━━━━━━━━━━━━━━━━━━━━━━━━━━━━━━━━━━━━━\u001b[0m \u001b[32m4.8/4.8 MB\u001b[0m \u001b[31m114.4 MB/s\u001b[0m eta \u001b[36m0:00:00\u001b[0m\n",
            "\u001b[2K     \u001b[90m━━━━━━━━━━━━━━━━━━━━━━━━━━━━━━━━━━━━━━━━\u001b[0m \u001b[32m82.1/82.1 kB\u001b[0m \u001b[31m10.5 MB/s\u001b[0m eta \u001b[36m0:00:00\u001b[0m\n",
            "\u001b[2K     \u001b[90m━━━━━━━━━━━━━━━━━━━━━━━━━━━━━━━━━━━━━━━━\u001b[0m \u001b[32m62.7/62.7 kB\u001b[0m \u001b[31m7.5 MB/s\u001b[0m eta \u001b[36m0:00:00\u001b[0m\n",
            "\u001b[2K     \u001b[90m━━━━━━━━━━━━━━━━━━━━━━━━━━━━━━━━━━━━━━\u001b[0m \u001b[32m341.8/341.8 kB\u001b[0m \u001b[31m36.7 MB/s\u001b[0m eta \u001b[36m0:00:00\u001b[0m\n",
            "\u001b[?25h  Building wheel for validators (setup.py) ... \u001b[?25l\u001b[?25hdone\n",
            "\u001b[K\u001b[?25h\u001b[37;40mnpm\u001b[0m \u001b[0m\u001b[30;43mWARN\u001b[0m \u001b[0m\u001b[35msaveError\u001b[0m ENOENT: no such file or directory, open '/content/package.json'\n",
            "\u001b[0m\u001b[37;40mnpm\u001b[0m \u001b[0m\u001b[34;40mnotice\u001b[0m\u001b[35m\u001b[0m created a lockfile as package-lock.json. You should commit this file.\n",
            "\u001b[0m\u001b[37;40mnpm\u001b[0m \u001b[0m\u001b[30;43mWARN\u001b[0m \u001b[0m\u001b[35menoent\u001b[0m ENOENT: no such file or directory, open '/content/package.json'\n",
            "\u001b[0m\u001b[37;40mnpm\u001b[0m \u001b[0m\u001b[30;43mWARN\u001b[0m\u001b[35m\u001b[0m content No description\n",
            "\u001b[0m\u001b[37;40mnpm\u001b[0m \u001b[0m\u001b[30;43mWARN\u001b[0m\u001b[35m\u001b[0m content No repository field.\n",
            "\u001b[0m\u001b[37;40mnpm\u001b[0m \u001b[0m\u001b[30;43mWARN\u001b[0m\u001b[35m\u001b[0m content No README data\n",
            "\u001b[0m\u001b[37;40mnpm\u001b[0m \u001b[0m\u001b[30;43mWARN\u001b[0m\u001b[35m\u001b[0m content No license field.\n",
            "\u001b[0m\n",
            "+ localtunnel@2.0.2\n",
            "added 22 packages from 22 contributors and audited 22 packages in 2.588s\n",
            "\n",
            "3 packages are looking for funding\n",
            "  run `npm fund` for details\n",
            "\n",
            "found \u001b[92m0\u001b[0m vulnerabilities\n",
            "\n",
            "\u001b[K\u001b[?25h"
          ]
        }
      ],
      "source": [
        "!pip install -q streamlit\n",
        "!npm install localtunnel"
      ]
    },
    {
      "cell_type": "code",
      "execution_count": null,
      "metadata": {
        "colab": {
          "base_uri": "https://localhost:8080/"
        },
        "id": "bZQuCEsSI4zo",
        "outputId": "cdf52ec6-bd41-407a-d035-96c46b8c6606"
      },
      "outputs": [
        {
          "output_type": "execute_result",
          "data": {
            "text/plain": [
              "['/content/model_ALexNet/accuracy_test.png',\n",
              " '/content/model_ALexNet/accuracy_val.png',\n",
              " '/content/model_ALexNet/AlexNet.png',\n",
              " '/content/model_ALexNet/Capture.PNG',\n",
              " '/content/model_ALexNet/fingerprint.pb',\n",
              " '/content/model_ALexNet/keras_metadata.pb',\n",
              " '/content/model_ALexNet/loss_test.png',\n",
              " '/content/model_ALexNet/loss.png',\n",
              " '/content/model_ALexNet/model.png',\n",
              " '/content/model_ALexNet/predict.png',\n",
              " '/content/model_ALexNet/saved_model.pb',\n",
              " '/content/model_ALexNet/training.png',\n",
              " '/content/model_ALexNet/variables/variables (1).data-00000-of-00001',\n",
              " '/content/model_ALexNet/variables/variables.data-00000-of-00001',\n",
              " '/content/model_ALexNet/variables/variables.index',\n",
              " '/content/model_ALexNet/variables (1).data-00000-of-00001',\n",
              " '/content/model_ALexNet/variables.index']"
            ]
          },
          "metadata": {},
          "execution_count": 2
        }
      ],
      "source": [
        "import gdown\n",
        "gdown.download_folder(\"https://drive.google.com/drive/folders/1-CKKgpis2PShA3wQL1F9Rkq5i-Yv6hCm?usp=drive_link\", quiet=True)\n",
        "gdown.download_folder(\"https://drive.google.com/drive/folders/1QiTPba9c916OZLXHU9c3F_VN_TQ-PEYm?usp=sharing\", quiet=True)\n",
        "gdown.download_folder(\"https://drive.google.com/drive/folders/1Eq9vKx2fNiG1zSA6CHRS4cSNJrvu5soI?usp=sharing\",quiet=True)"
      ]
    },
    {
      "cell_type": "markdown",
      "metadata": {
        "id": "waCfwniZOow8"
      },
      "source": [
        "#Create python script\n"
      ]
    },
    {
      "cell_type": "code",
      "execution_count": null,
      "metadata": {
        "colab": {
          "base_uri": "https://localhost:8080/"
        },
        "id": "meJ36PefNftd",
        "outputId": "47e36f7e-8d68-4c76-8cff-1df8db0d9df3"
      },
      "outputs": [
        {
          "output_type": "stream",
          "name": "stdout",
          "text": [
            "Writing app.py\n"
          ]
        }
      ],
      "source": [
        "%%writefile app.py\n",
        "import streamlit as st\n",
        "import tensorflow as tf\n",
        "from tensorflow.keras import layers\n",
        "from tensorflow import keras\n",
        "from tensorflow.keras.preprocessing import image\n",
        "import numpy as np\n",
        "import time\n",
        "import os\n",
        "import math\n",
        "from pathlib import Path\n",
        "from collections import Counter\n",
        "import matplotlib.pyplot as plt\n",
        "import cv2\n",
        "\n",
        "from sklearn.model_selection import train_test_split\n",
        "\n",
        "#######cache#####\n",
        "\n",
        "#######VOCAB#####\n",
        "characters=['1', '2', '3', '4', '5', '6', '7', '8', '9', 'A', 'B', 'C', 'D', 'E', 'F', 'G', 'H', 'I', 'J', 'K', 'L', 'M', 'N', 'O', 'P', 'Q', 'R', 'S', 'T', 'U', 'V', 'W', 'X', 'Y', 'Z', 'a', 'b', 'c', 'd', 'e', 'f', 'g', 'h', 'i', 'j', 'k', 'l', 'm', 'n', 'p', 'q', 'r', 's', 't', 'u', 'v', 'w', 'x', 'y', 'z']\n",
        "characters = sorted(list(set(characters)))\n",
        "# Mapping characters to integers\n",
        "char_to_num = layers.StringLookup(\n",
        "    vocabulary=list(characters), mask_token=None\n",
        ")\n",
        "\n",
        "# Mapping integers back to original characters\n",
        "num_to_char = layers.StringLookup(\n",
        "    vocabulary=char_to_num.get_vocabulary(), mask_token=None, invert=True\n",
        ")\n",
        "\n",
        "#######LOAD MODEL############\n",
        "#@st.cache_resource\n",
        "def initial(model):\n",
        "  image = cv2.imread('/content/model_ALexNet/Capture.PNG')\n",
        "  tensor=image[:, :, :3]/255\n",
        "  tensor= tf.image.transpose(tensor)\n",
        "  tensor = tf.image.resize(tensor, [200, 50])\n",
        "  image =tf.image.resize(tensor, [200, 50])\n",
        "  _image= tf.reshape(image, (1, 200, 50, 3))\n",
        "  model.predict(_image, verbose=0)\n",
        "\n",
        "@st.cache_resource\n",
        "def load_model_CNN():\n",
        "  model=tf.keras.saving.load_model(\"/content/CNN/ocr_model\")\n",
        "  initial(model)\n",
        "  return model\n",
        "@st.cache_resource\n",
        "def load_model_Res():\n",
        "  model= tf.keras.saving.load_model(\"/content/resnet50v2.keras\")\n",
        "  initial(model)\n",
        "  return model\n",
        "@st.cache_resource\n",
        "def load_model_Alex():\n",
        "  model= tf.keras.saving.load_model(\"/content/model_ALexNet\")\n",
        "  initial(model)\n",
        "  return model\n",
        "CNN_model_pred=load_model_CNN()\n",
        "RES_model_pred=load_model_Res()\n",
        "ALEX_mode_pred=load_model_Alex()\n",
        "@st.cache_resource\n",
        "def getPredictor(choice):\n",
        "  if choice==0:\n",
        "    return CNN_model_pred\n",
        "  elif choice==1:\n",
        "    return RES_model_pred\n",
        "  elif choice==2:\n",
        "    return ALEX_mode_pred\n",
        "#######PREDICT############\n",
        "def predictingggg(image,choice):\n",
        "  start_time = time.time()\n",
        "  tensor= tf.image.decode_image(image)/255\n",
        "  tensor=tensor[:, :, :3]\n",
        "  tensor= tf.image.transpose(tensor)\n",
        "  tensor = tf.image.resize(tensor, [200, 50])\n",
        "  image =tf.image.resize(tensor, [200, 50])\n",
        "  _image= tf.reshape(image, (1, 200, 50, 3))\n",
        "  #st.write(\"Runtime: {:.2f} seconds\".format(start_time-time.time()))\n",
        "  start_time = time.time()\n",
        "  pred = getPredictor(choice).predict(_image, verbose=0)\n",
        "  #st.write(\"Runtime: {:.2f} seconds\".format(start_time-time.time()))\n",
        "  start_time = time.time()\n",
        "  pred_text = decode_batch_predictions(pred)\n",
        "  return pred_text[0]\n",
        "\n",
        "def decode_batch_predictions(pred):\n",
        "    input_len = np.ones(pred.shape[0]) * pred.shape[1]\n",
        "    # Use greedy search. For complex tasks, you can use beam search\n",
        "    results = keras.backend.ctc_decode(pred, input_length=input_len, greedy=True)[0][0][\n",
        "        :, :5\n",
        "    ]\n",
        "    # Iterate over the results and get back the text\n",
        "    output_text = []\n",
        "    for res in results:\n",
        "        res = tf.strings.reduce_join(num_to_char(res)).numpy().decode(\"utf-8\")\n",
        "        output_text.append(res)\n",
        "    return output_text\n",
        "def main():\n",
        "    choices = ['CNN', 'ResNet50',\"AlexNet\"]\n",
        "    selected_option = st.selectbox('Select a model', choices)\n",
        "\n",
        "    # File uploader\n",
        "    uploaded_file = st.file_uploader(\"Upload an image\", type=[\"jpg\", \"jpeg\", \"png\"])\n",
        "    if uploaded_file is not None:\n",
        "        # Get the name of the uploaded file\n",
        "        image_name = uploaded_file.name\n",
        "\n",
        "        # Read the uploaded image file\n",
        "        image = uploaded_file.read()\n",
        "        selected_index = choices.index(selected_option)\n",
        "        if(image!=None):\n",
        "          result=predictingggg(image,selected_index)\n",
        "          st.image(uploaded_file, caption=image_name, use_column_width=True)\n",
        "          st.write(\"result:\", result)\n",
        "\n",
        "if __name__ == \"__main__\":\n",
        "    main()\n",
        "\n"
      ]
    },
    {
      "cell_type": "markdown",
      "metadata": {
        "id": "kccYE2lkN20y"
      },
      "source": [
        "# Run streamlit in background"
      ]
    },
    {
      "cell_type": "code",
      "execution_count": null,
      "metadata": {
        "colab": {
          "base_uri": "https://localhost:8080/"
        },
        "id": "Zv912rRAN0fs",
        "outputId": "12b995c4-5da8-4d72-cef5-dcb237190be8"
      },
      "outputs": [
        {
          "output_type": "stream",
          "name": "stdout",
          "text": [
            "Password:  35.204.86.231\n",
            "\u001b[K\u001b[?25hnpx: installed 22 in 2.065s\n",
            "your url is: https://bright-cloths-lose.loca.lt\n",
            "^C\n"
          ]
        }
      ],
      "source": [
        "import urllib\n",
        "print(\"Password: \",urllib.request.urlopen('https://ipv4.icanhazip.com').read().decode('utf8').strip(\"\\n\"))\n",
        "!streamlit run /content/app.py &>/content/logs.txt &\n",
        "!npx localtunnel --port 8501"
      ]
    }
  ],
  "metadata": {
    "accelerator": "GPU",
    "colab": {
      "provenance": [],
      "collapsed_sections": [
        "pze3IRe2Ifo9"
      ]
    },
    "kernelspec": {
      "display_name": "Python 3",
      "name": "python3"
    }
  },
  "nbformat": 4,
  "nbformat_minor": 0
}